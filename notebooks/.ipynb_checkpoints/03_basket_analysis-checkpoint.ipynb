{
 "cells": [
  {
   "cell_type": "markdown",
   "id": "82ee4613-62f8-4409-bdac-be93fa48c846",
   "metadata": {},
   "source": [
    "# Basket Analysis"
   ]
  },
  {
   "cell_type": "code",
   "execution_count": 2,
   "id": "16cac526-c719-4d1f-a027-d432010e7658",
   "metadata": {},
   "outputs": [],
   "source": [
    "# Bibliotecas requeridas\n",
    "import sys\n",
    "sys.path.append('../scr/')\n",
    "\n",
    "import warnings\n",
    "warnings.filterwarnings('ignore')\n",
    "\n",
    "import loadAndTransformData as ltd\n",
    "import viewDataFunctions as vdf\n",
    "import basketAnalysis as ba\n",
    "\n",
    "import pandas as pd\n",
    "import matplotlib.pyplot as plt\n",
    "from sklearn.model_selection import ParameterGrid"
   ]
  },
  {
   "cell_type": "code",
   "execution_count": 3,
   "id": "7a10fd3d-9100-4355-ace8-d133a7e099e8",
   "metadata": {},
   "outputs": [
    {
     "name": "stdout",
     "output_type": "stream",
     "text": [
      "Archivo cargado correctamente.\n"
     ]
    }
   ],
   "source": [
    "# Cargar los datos\n",
    "ruta_archivo = '../data/processed/Minimarket_Sales_Data_Transform_By_Subcategory.csv'\n",
    "datos = ltd.cargar_csv(ruta_archivo)\n",
    "\n",
    "# Convertir tipo de datos a bool\n",
    "datos = ltd.convertir_a_bool(datos)"
   ]
  },
  {
   "cell_type": "code",
   "execution_count": 55,
   "id": "0b8342cd-a0ac-4f04-a997-6ba201f89650",
   "metadata": {},
   "outputs": [],
   "source": [
    "# Crear un grid de parámetros para probar\n",
    "parametros_grid = list(ParameterGrid({\n",
    "    'soporte_minimo': [0.05],\n",
    "    'confianza_minima': [0.05]\n",
    "}))\n",
    "\n",
    "# Calibrar Apriori\n",
    "mejor_configuracion_apriori, mejores_reglas_apriori, itemsets_frecuentes_apriori = ba.calibrar_apriori(datos, parametros_grid)"
   ]
  },
  {
   "cell_type": "code",
   "execution_count": 57,
   "id": "0a5b47f4-aaae-4fc5-99cd-7c4f06886e4c",
   "metadata": {},
   "outputs": [
    {
     "name": "stdout",
     "output_type": "stream",
     "text": [
      "Mejor configuración Apriori:\n"
     ]
    },
    {
     "data": {
      "text/plain": [
       "{'confianza_minima': 0.05, 'soporte_minimo': 0.05}"
      ]
     },
     "execution_count": 57,
     "metadata": {},
     "output_type": "execute_result"
    }
   ],
   "source": [
    "# Mostrar la mejor configuración para Apriori\n",
    "print(\"Mejor configuración Apriori:\")\n",
    "mejor_configuracion_apriori"
   ]
  },
  {
   "cell_type": "code",
   "execution_count": 59,
   "id": "25c2455a-ff92-4fa6-9390-f16d31611c55",
   "metadata": {},
   "outputs": [
    {
     "data": {
      "text/html": [
       "<div>\n",
       "<style scoped>\n",
       "    .dataframe tbody tr th:only-of-type {\n",
       "        vertical-align: middle;\n",
       "    }\n",
       "\n",
       "    .dataframe tbody tr th {\n",
       "        vertical-align: top;\n",
       "    }\n",
       "\n",
       "    .dataframe thead th {\n",
       "        text-align: right;\n",
       "    }\n",
       "</style>\n",
       "<table border=\"1\" class=\"dataframe\">\n",
       "  <thead>\n",
       "    <tr style=\"text-align: right;\">\n",
       "      <th></th>\n",
       "      <th>support</th>\n",
       "      <th>itemsets</th>\n",
       "    </tr>\n",
       "  </thead>\n",
       "  <tbody>\n",
       "    <tr>\n",
       "      <th>14</th>\n",
       "      <td>0.232855</td>\n",
       "      <td>(Tissue)</td>\n",
       "    </tr>\n",
       "    <tr>\n",
       "      <th>12</th>\n",
       "      <td>0.156915</td>\n",
       "      <td>(Otros)</td>\n",
       "    </tr>\n",
       "    <tr>\n",
       "      <th>2</th>\n",
       "      <td>0.149861</td>\n",
       "      <td>(Detergentes)</td>\n",
       "    </tr>\n",
       "    <tr>\n",
       "      <th>3</th>\n",
       "      <td>0.142602</td>\n",
       "      <td>(Empaques)</td>\n",
       "    </tr>\n",
       "    <tr>\n",
       "      <th>10</th>\n",
       "      <td>0.113667</td>\n",
       "      <td>(Leches Larga Vida)</td>\n",
       "    </tr>\n",
       "    <tr>\n",
       "      <th>7</th>\n",
       "      <td>0.094088</td>\n",
       "      <td>(Jabonería)</td>\n",
       "    </tr>\n",
       "    <tr>\n",
       "      <th>9</th>\n",
       "      <td>0.086599</td>\n",
       "      <td>(Lavaplatos)</td>\n",
       "    </tr>\n",
       "    <tr>\n",
       "      <th>0</th>\n",
       "      <td>0.085832</td>\n",
       "      <td>(Blanqueador)</td>\n",
       "    </tr>\n",
       "    <tr>\n",
       "      <th>1</th>\n",
       "      <td>0.078266</td>\n",
       "      <td>(Cuidado De Prendas)</td>\n",
       "    </tr>\n",
       "    <tr>\n",
       "      <th>4</th>\n",
       "      <td>0.076707</td>\n",
       "      <td>(Familiar)</td>\n",
       "    </tr>\n",
       "    <tr>\n",
       "      <th>11</th>\n",
       "      <td>0.073946</td>\n",
       "      <td>(Oral)</td>\n",
       "    </tr>\n",
       "    <tr>\n",
       "      <th>5</th>\n",
       "      <td>0.068272</td>\n",
       "      <td>(Femenina)</td>\n",
       "    </tr>\n",
       "    <tr>\n",
       "      <th>13</th>\n",
       "      <td>0.064693</td>\n",
       "      <td>(Pisos)</td>\n",
       "    </tr>\n",
       "    <tr>\n",
       "      <th>15</th>\n",
       "      <td>0.064182</td>\n",
       "      <td>(Detergentes, Tissue)</td>\n",
       "    </tr>\n",
       "    <tr>\n",
       "      <th>8</th>\n",
       "      <td>0.056335</td>\n",
       "      <td>(Jabones En Barra)</td>\n",
       "    </tr>\n",
       "    <tr>\n",
       "      <th>6</th>\n",
       "      <td>0.052859</td>\n",
       "      <td>(Gasificadas)</td>\n",
       "    </tr>\n",
       "    <tr>\n",
       "      <th>16</th>\n",
       "      <td>0.052322</td>\n",
       "      <td>(Jabonería, Tissue)</td>\n",
       "    </tr>\n",
       "  </tbody>\n",
       "</table>\n",
       "</div>"
      ],
      "text/plain": [
       "     support               itemsets\n",
       "14  0.232855               (Tissue)\n",
       "12  0.156915                (Otros)\n",
       "2   0.149861          (Detergentes)\n",
       "3   0.142602             (Empaques)\n",
       "10  0.113667    (Leches Larga Vida)\n",
       "7   0.094088            (Jabonería)\n",
       "9   0.086599           (Lavaplatos)\n",
       "0   0.085832          (Blanqueador)\n",
       "1   0.078266   (Cuidado De Prendas)\n",
       "4   0.076707             (Familiar)\n",
       "11  0.073946                 (Oral)\n",
       "5   0.068272             (Femenina)\n",
       "13  0.064693                (Pisos)\n",
       "15  0.064182  (Detergentes, Tissue)\n",
       "8   0.056335     (Jabones En Barra)\n",
       "6   0.052859          (Gasificadas)\n",
       "16  0.052322    (Jabonería, Tissue)"
      ]
     },
     "execution_count": 59,
     "metadata": {},
     "output_type": "execute_result"
    }
   ],
   "source": [
    "# Mostrar frecuencia de items\n",
    "itemsets_frecuentes_apriori.sort_values(by='support', ascending=False)"
   ]
  },
  {
   "cell_type": "code",
   "execution_count": 61,
   "id": "2be7fcda-687c-4515-82b3-6e30a0792424",
   "metadata": {},
   "outputs": [
    {
     "data": {
      "text/html": [
       "<div>\n",
       "<style scoped>\n",
       "    .dataframe tbody tr th:only-of-type {\n",
       "        vertical-align: middle;\n",
       "    }\n",
       "\n",
       "    .dataframe tbody tr th {\n",
       "        vertical-align: top;\n",
       "    }\n",
       "\n",
       "    .dataframe thead th {\n",
       "        text-align: right;\n",
       "    }\n",
       "</style>\n",
       "<table border=\"1\" class=\"dataframe\">\n",
       "  <thead>\n",
       "    <tr style=\"text-align: right;\">\n",
       "      <th></th>\n",
       "      <th>antecedents</th>\n",
       "      <th>consequents</th>\n",
       "      <th>antecedent support</th>\n",
       "      <th>consequent support</th>\n",
       "      <th>support</th>\n",
       "      <th>confidence</th>\n",
       "      <th>lift</th>\n",
       "      <th>leverage</th>\n",
       "      <th>conviction</th>\n",
       "      <th>zhangs_metric</th>\n",
       "    </tr>\n",
       "  </thead>\n",
       "  <tbody>\n",
       "    <tr>\n",
       "      <th>2</th>\n",
       "      <td>(Jabonería)</td>\n",
       "      <td>(Tissue)</td>\n",
       "      <td>0.094088</td>\n",
       "      <td>0.232855</td>\n",
       "      <td>0.052322</td>\n",
       "      <td>0.556099</td>\n",
       "      <td>2.388173</td>\n",
       "      <td>0.030413</td>\n",
       "      <td>1.728188</td>\n",
       "      <td>0.641640</td>\n",
       "    </tr>\n",
       "    <tr>\n",
       "      <th>3</th>\n",
       "      <td>(Tissue)</td>\n",
       "      <td>(Jabonería)</td>\n",
       "      <td>0.232855</td>\n",
       "      <td>0.094088</td>\n",
       "      <td>0.052322</td>\n",
       "      <td>0.224698</td>\n",
       "      <td>2.388173</td>\n",
       "      <td>0.030413</td>\n",
       "      <td>1.168464</td>\n",
       "      <td>0.757706</td>\n",
       "    </tr>\n",
       "    <tr>\n",
       "      <th>0</th>\n",
       "      <td>(Detergentes)</td>\n",
       "      <td>(Tissue)</td>\n",
       "      <td>0.149861</td>\n",
       "      <td>0.232855</td>\n",
       "      <td>0.064182</td>\n",
       "      <td>0.428279</td>\n",
       "      <td>1.839249</td>\n",
       "      <td>0.029286</td>\n",
       "      <td>1.341817</td>\n",
       "      <td>0.536735</td>\n",
       "    </tr>\n",
       "    <tr>\n",
       "      <th>1</th>\n",
       "      <td>(Tissue)</td>\n",
       "      <td>(Detergentes)</td>\n",
       "      <td>0.232855</td>\n",
       "      <td>0.149861</td>\n",
       "      <td>0.064182</td>\n",
       "      <td>0.275631</td>\n",
       "      <td>1.839249</td>\n",
       "      <td>0.029286</td>\n",
       "      <td>1.173628</td>\n",
       "      <td>0.594803</td>\n",
       "    </tr>\n",
       "  </tbody>\n",
       "</table>\n",
       "</div>"
      ],
      "text/plain": [
       "     antecedents    consequents  antecedent support  consequent support  \\\n",
       "2    (Jabonería)       (Tissue)            0.094088            0.232855   \n",
       "3       (Tissue)    (Jabonería)            0.232855            0.094088   \n",
       "0  (Detergentes)       (Tissue)            0.149861            0.232855   \n",
       "1       (Tissue)  (Detergentes)            0.232855            0.149861   \n",
       "\n",
       "    support  confidence      lift  leverage  conviction  zhangs_metric  \n",
       "2  0.052322    0.556099  2.388173  0.030413    1.728188       0.641640  \n",
       "3  0.052322    0.224698  2.388173  0.030413    1.168464       0.757706  \n",
       "0  0.064182    0.428279  1.839249  0.029286    1.341817       0.536735  \n",
       "1  0.064182    0.275631  1.839249  0.029286    1.173628       0.594803  "
      ]
     },
     "execution_count": 61,
     "metadata": {},
     "output_type": "execute_result"
    }
   ],
   "source": [
    "# Mostrar el top 10 de reglas de Apriori\n",
    "mejores_reglas_apriori.sort_values(by='lift', ascending=False)"
   ]
  },
  {
   "cell_type": "code",
   "execution_count": 65,
   "id": "8ebd291d-1925-40a8-8b01-b91924b420a1",
   "metadata": {},
   "outputs": [
    {
     "data": {
      "image/png": "[encoded data removed]",
      "text/plain": [
       "<Figure size 1000x800 with 2 Axes>"
      ]
     },
     "metadata": {},
     "output_type": "display_data"
    }
   ],
   "source": [
    "fig=vdf.crear_heatmap_asociacion(mejores_reglas_apriori)"
   ]
  },
  {
   "cell_type": "code",
   "execution_count": null,
   "id": "cfbf1ee1-46b9-4168-976b-de041a283e51",
   "metadata": {},
   "outputs": [],
   "source": []
  }
 ],
 "metadata": {
  "kernelspec": {
   "display_name": "Python 3 (ipykernel)",
   "language": "python",
   "name": "python3"
  },
  "language_info": {
   "codemirror_mode": {
    "name": "ipython",
    "version": 3
   },
   "file_extension": ".py",
   "mimetype": "text/x-python",
   "name": "python",
   "nbconvert_exporter": "python",
   "pygments_lexer": "ipython3",
   "version": "3.11.7"
  }
 },
 "nbformat": 4,
 "nbformat_minor": 5
}
