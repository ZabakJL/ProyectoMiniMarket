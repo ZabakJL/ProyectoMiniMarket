{
 "cells": [
  {
   "cell_type": "markdown",
   "id": "82ee4613-62f8-4409-bdac-be93fa48c846",
   "metadata": {},
   "source": [
    "# Basket Analysis"
   ]
  },
  {
   "cell_type": "code",
   "execution_count": null,
   "id": "16cac526-c719-4d1f-a027-d432010e7658",
   "metadata": {},
   "outputs": [],
   "source": [
    "# Bibliotecas requeridas\n",
    "import sys\n",
    "sys.path.append('../scr/')\n",
    "\n",
    "import warnings\n",
    "warnings.filterwarnings('ignore')\n",
    "\n",
    "import loadAndTransformData as ltd\n",
    "import viewDataFunctions as vdf\n",
    "import basketAnalysis as ba\n",
    "\n",
    "import pandas as pd\n",
    "import matplotlib.pyplot as plt\n",
    "from sklearn.model_selection import ParameterGrid"
   ]
  },
  {
   "cell_type": "code",
   "execution_count": null,
   "id": "7a10fd3d-9100-4355-ace8-d133a7e099e8",
   "metadata": {},
   "outputs": [],
   "source": [
    "# Cargar los datos\n",
    "ruta_archivo = '../data/processed/Minimarket_Sales_Data_Transform_By_Product.csv'\n",
    "datos = ltd.cargar_csv(ruta_archivo)\n",
    "\n",
    "# Convertir tipo de datos a bool\n",
    "datos = ltd.convertir_a_bool(datos)"
   ]
  },
  {
   "cell_type": "code",
   "execution_count": null,
   "id": "0b8342cd-a0ac-4f04-a997-6ba201f89650",
   "metadata": {},
   "outputs": [],
   "source": [
    "# Crear un grid de parámetros para probar\n",
    "parametros_grid = list(ParameterGrid({\n",
    "    'soporte_minimo': [0.01, 0.02, 0.03],\n",
    "    'confianza_minima': [0.1, 0.2, 0.3, 0.05]\n",
    "}))\n",
    "\n",
    "# Calibrar Apriori\n",
    "mejor_configuracion_apriori, mejores_reglas_apriori, itemsets_frecuentes_apriori = ba.calibrar_apriori(datos, parametros_grid)"
   ]
  },
  {
   "cell_type": "code",
   "execution_count": null,
   "id": "0a5b47f4-aaae-4fc5-99cd-7c4f06886e4c",
   "metadata": {},
   "outputs": [],
   "source": [
    "# Mostrar la mejor configuración para Apriori\n",
    "print(\"Mejor configuración Apriori:\")\n",
    "mejor_configuracion_apriori"
   ]
  },
  {
   "cell_type": "code",
   "execution_count": null,
   "id": "25c2455a-ff92-4fa6-9390-f16d31611c55",
   "metadata": {},
   "outputs": [],
   "source": [
    "# Mostrar frecuencia de items\n",
    "itemsets_frecuentes_apriori.sort_values(by='support', ascending=False)"
   ]
  },
  {
   "cell_type": "code",
   "execution_count": null,
   "id": "2be7fcda-687c-4515-82b3-6e30a0792424",
   "metadata": {},
   "outputs": [],
   "source": [
    "# Mostrar el top 10 de reglas de Apriori\n",
    "mejores_reglas_apriori.sort_values(by='lift', ascending=False).head(20)"
   ]
  },
  {
   "cell_type": "code",
   "execution_count": null,
   "id": "8ebd291d-1925-40a8-8b01-b91924b420a1",
   "metadata": {},
   "outputs": [],
   "source": [
    "fig=vdf.crear_heatmap_asociacion(mejores_reglas_apriori, metric='zhangs_metric')"
   ]
  },
  {
   "cell_type": "code",
   "execution_count": null,
   "id": "cfbf1ee1-46b9-4168-976b-de041a283e51",
   "metadata": {},
   "outputs": [],
   "source": []
  }
 ],
 "metadata": {
  "kernelspec": {
   "display_name": "Python 3 (ipykernel)",
   "language": "python",
   "name": "python3"
  },
  "language_info": {
   "codemirror_mode": {
    "name": "ipython",
    "version": 3
   },
   "file_extension": ".py",
   "mimetype": "text/x-python",
   "name": "python",
   "nbconvert_exporter": "python",
   "pygments_lexer": "ipython3",
   "version": "3.11.7"
  }
 },
 "nbformat": 4,
 "nbformat_minor": 5
}
